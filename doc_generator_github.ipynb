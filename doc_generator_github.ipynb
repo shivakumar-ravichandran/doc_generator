{
  "nbformat": 4,
  "nbformat_minor": 0,
  "metadata": {
    "colab": {
      "provenance": [],
      "authorship_tag": "ABX9TyNf5iaS4rMaMH85cyUiVKSi",
      "include_colab_link": true
    },
    "kernelspec": {
      "name": "python3",
      "display_name": "Python 3"
    },
    "language_info": {
      "name": "python"
    }
  },
  "cells": [
    {
      "cell_type": "markdown",
      "metadata": {
        "id": "view-in-github",
        "colab_type": "text"
      },
      "source": [
        "<a href=\"https://colab.research.google.com/github/shivakumar-ravichandran/doc_generator/blob/main/doc_generator_github.ipynb\" target=\"_parent\"><img src=\"https://colab.research.google.com/assets/colab-badge.svg\" alt=\"Open In Colab\"/></a>"
      ]
    },
    {
      "cell_type": "code",
      "source": [
        "!pip uninstall openai\n",
        "!pip install openai==0.28"
      ],
      "metadata": {
        "colab": {
          "base_uri": "https://localhost:8080/"
        },
        "id": "OHCSHwy2ksfF",
        "outputId": "7fa5afbe-a25a-479b-bc99-d2eea383f407"
      },
      "execution_count": 1,
      "outputs": [
        {
          "output_type": "stream",
          "name": "stdout",
          "text": [
            "Found existing installation: openai 1.54.4\n",
            "Uninstalling openai-1.54.4:\n",
            "  Would remove:\n",
            "    /usr/local/bin/openai\n",
            "    /usr/local/lib/python3.10/dist-packages/openai-1.54.4.dist-info/*\n",
            "    /usr/local/lib/python3.10/dist-packages/openai/*\n",
            "Proceed (Y/n)? Y\n",
            "  Successfully uninstalled openai-1.54.4\n",
            "Collecting openai==0.28\n",
            "  Downloading openai-0.28.0-py3-none-any.whl.metadata (13 kB)\n",
            "Requirement already satisfied: requests>=2.20 in /usr/local/lib/python3.10/dist-packages (from openai==0.28) (2.32.3)\n",
            "Requirement already satisfied: tqdm in /usr/local/lib/python3.10/dist-packages (from openai==0.28) (4.66.6)\n",
            "Requirement already satisfied: aiohttp in /usr/local/lib/python3.10/dist-packages (from openai==0.28) (3.11.2)\n",
            "Requirement already satisfied: charset-normalizer<4,>=2 in /usr/local/lib/python3.10/dist-packages (from requests>=2.20->openai==0.28) (3.4.0)\n",
            "Requirement already satisfied: idna<4,>=2.5 in /usr/local/lib/python3.10/dist-packages (from requests>=2.20->openai==0.28) (3.10)\n",
            "Requirement already satisfied: urllib3<3,>=1.21.1 in /usr/local/lib/python3.10/dist-packages (from requests>=2.20->openai==0.28) (2.2.3)\n",
            "Requirement already satisfied: certifi>=2017.4.17 in /usr/local/lib/python3.10/dist-packages (from requests>=2.20->openai==0.28) (2024.8.30)\n",
            "Requirement already satisfied: aiohappyeyeballs>=2.3.0 in /usr/local/lib/python3.10/dist-packages (from aiohttp->openai==0.28) (2.4.3)\n",
            "Requirement already satisfied: aiosignal>=1.1.2 in /usr/local/lib/python3.10/dist-packages (from aiohttp->openai==0.28) (1.3.1)\n",
            "Requirement already satisfied: attrs>=17.3.0 in /usr/local/lib/python3.10/dist-packages (from aiohttp->openai==0.28) (24.2.0)\n",
            "Requirement already satisfied: frozenlist>=1.1.1 in /usr/local/lib/python3.10/dist-packages (from aiohttp->openai==0.28) (1.5.0)\n",
            "Requirement already satisfied: multidict<7.0,>=4.5 in /usr/local/lib/python3.10/dist-packages (from aiohttp->openai==0.28) (6.1.0)\n",
            "Requirement already satisfied: propcache>=0.2.0 in /usr/local/lib/python3.10/dist-packages (from aiohttp->openai==0.28) (0.2.0)\n",
            "Requirement already satisfied: yarl<2.0,>=1.17.0 in /usr/local/lib/python3.10/dist-packages (from aiohttp->openai==0.28) (1.17.2)\n",
            "Requirement already satisfied: async-timeout<6.0,>=4.0 in /usr/local/lib/python3.10/dist-packages (from aiohttp->openai==0.28) (4.0.3)\n",
            "Requirement already satisfied: typing-extensions>=4.1.0 in /usr/local/lib/python3.10/dist-packages (from multidict<7.0,>=4.5->aiohttp->openai==0.28) (4.12.2)\n",
            "Downloading openai-0.28.0-py3-none-any.whl (76 kB)\n",
            "\u001b[2K   \u001b[90m━━━━━━━━━━━━━━━━━━━━━━━━━━━━━━━━━━━━━━━━\u001b[0m \u001b[32m76.5/76.5 kB\u001b[0m \u001b[31m2.0 MB/s\u001b[0m eta \u001b[36m0:00:00\u001b[0m\n",
            "\u001b[?25hInstalling collected packages: openai\n",
            "Successfully installed openai-0.28.0\n"
          ]
        }
      ]
    },
    {
      "cell_type": "code",
      "source": [
        "!pip install python-docx"
      ],
      "metadata": {
        "colab": {
          "base_uri": "https://localhost:8080/"
        },
        "id": "vXN5T4EZHz_n",
        "outputId": "40f0458a-17c3-45eb-be02-89a06a593fdc"
      },
      "execution_count": 6,
      "outputs": [
        {
          "output_type": "stream",
          "name": "stdout",
          "text": [
            "Collecting python-docx\n",
            "  Downloading python_docx-1.1.2-py3-none-any.whl.metadata (2.0 kB)\n",
            "Requirement already satisfied: lxml>=3.1.0 in /usr/local/lib/python3.10/dist-packages (from python-docx) (5.3.0)\n",
            "Requirement already satisfied: typing-extensions>=4.9.0 in /usr/local/lib/python3.10/dist-packages (from python-docx) (4.12.2)\n",
            "Downloading python_docx-1.1.2-py3-none-any.whl (244 kB)\n",
            "\u001b[?25l   \u001b[90m━━━━━━━━━━━━━━━━━━━━━━━━━━━━━━━━━━━━━━━━\u001b[0m \u001b[32m0.0/244.3 kB\u001b[0m \u001b[31m?\u001b[0m eta \u001b[36m-:--:--\u001b[0m\r\u001b[2K   \u001b[91m━━━━━━━━━━━━━━━━━━━━━━━━━━\u001b[0m\u001b[91m╸\u001b[0m\u001b[90m━━━━━━━━━━━━━\u001b[0m \u001b[32m163.8/244.3 kB\u001b[0m \u001b[31m5.1 MB/s\u001b[0m eta \u001b[36m0:00:01\u001b[0m\r\u001b[2K   \u001b[90m━━━━━━━━━━━━━━━━━━━━━━━━━━━━━━━━━━━━━━━━\u001b[0m \u001b[32m244.3/244.3 kB\u001b[0m \u001b[31m5.0 MB/s\u001b[0m eta \u001b[36m0:00:00\u001b[0m\n",
            "\u001b[?25hInstalling collected packages: python-docx\n",
            "Successfully installed python-docx-1.1.2\n"
          ]
        }
      ]
    },
    {
      "cell_type": "markdown",
      "source": [
        "# Read the RPG coed file from the local folder or GitHub URL and generate the High level document in docx format."
      ],
      "metadata": {
        "id": "NXlFIZTsKGFv"
      }
    },
    {
      "cell_type": "code",
      "execution_count": 9,
      "metadata": {
        "colab": {
          "base_uri": "https://localhost:8080/"
        },
        "id": "rznQTCv8j8Sg",
        "outputId": "8d2e31e8-fcac-485f-930e-2cf4bc85578a"
      },
      "outputs": [
        {
          "output_type": "stream",
          "name": "stdout",
          "text": [
            "Summary document has been created successfully. Check the output file.\n",
            "Log file saved at: logs/log_20241129_042028.log\n"
          ]
        }
      ],
      "source": [
        "import os\n",
        "import requests\n",
        "import openai\n",
        "import logging\n",
        "from datetime import datetime\n",
        "from docx import Document\n",
        "from urllib.parse import urlparse\n",
        "\n",
        "\n",
        "def setup_logging():\n",
        "    \"\"\"Sets up logging to a timestamped log file in the logs directory.\"\"\"\n",
        "    os.makedirs(\"logs\", exist_ok=True)\n",
        "    log_file = os.path.join(\n",
        "        \"logs\", f\"log_{datetime.now().strftime('%Y%m%d_%H%M%S')}.log\"\n",
        "    )\n",
        "    logging.basicConfig(\n",
        "        filename=log_file,\n",
        "        level=logging.DEBUG,\n",
        "        format=\"%(asctime)s - %(levelname)s - %(message)s\",\n",
        "    )\n",
        "    return log_file\n",
        "\n",
        "\n",
        "def read_openai_key(key_file=\"/content/openai_key.txt\"):\n",
        "    \"\"\"Reads the OpenAI API key from a file.\"\"\"\n",
        "    if not os.path.exists(key_file):\n",
        "        raise FileNotFoundError(f\"The file {key_file} does not exist.\")\n",
        "    with open(key_file, \"r\") as file:\n",
        "        key = file.read().strip()\n",
        "    if not key:\n",
        "        raise ValueError(\"The OpenAI API key file is empty.\")\n",
        "    return key\n",
        "\n",
        "# Function to read and parse the RPG file\n",
        "def read_rpg_file(file_path):\n",
        "    \"\"\"Reads the IBM RPG code file and returns its content line by line.\"\"\"\n",
        "    with open(file_path, \"r\") as file:\n",
        "        lines = file.readlines()\n",
        "    return lines\n",
        "\n",
        "\n",
        "def fetch_rpg_code_from_github(repo_url):\n",
        "    \"\"\"Fetches the RPG code from a GitHub repository URL.\"\"\"\n",
        "    try:\n",
        "        logging.info(f\"Fetching RPG code from URL: {repo_url}\")\n",
        "        response = requests.get(repo_url)\n",
        "        response.raise_for_status()\n",
        "        logging.info(\"Successfully fetched RPG code.\")\n",
        "        return response.text\n",
        "    except requests.exceptions.RequestException as e:\n",
        "        logging.error(f\"Failed to fetch RPG code: {e}\")\n",
        "        raise RuntimeError(f\"Error fetching RPG code: {e}\")\n",
        "\n",
        "\n",
        "def generate_summary(rpg_code):\n",
        "    \"\"\"Generates a detailed summary of the RPG code using OpenAI GPT.\"\"\"\n",
        "    try:\n",
        "        prompt = (\n",
        "            \"You are a technical writer tasked with summarizing legacy IBM RPG code. \"\n",
        "            \"Create a high-level summary for the following code, making it understandable \"\n",
        "            \"to both technical and non-technical audiences. Ensure the summary includes: \"\n",
        "            \"an overview of the code's purpose, key functionalities, and any notable logic.\\n\\n\"\n",
        "            f\"Code:\\n{rpg_code}\"\n",
        "        )\n",
        "\n",
        "        logging.info(\"Generating summary using OpenAI GPT.\")\n",
        "        response = openai.Completion.create(\n",
        "            engine=\"gpt-3.5-turbo-instruct\", prompt=prompt, max_tokens=1500, temperature=0.5\n",
        "        )\n",
        "        summary = response.choices[0].text.strip()\n",
        "        logging.info(\"Summary generation successful.\")\n",
        "        return summary\n",
        "    except Exception as e:\n",
        "        logging.error(f\"Error generating summary: {e}\")\n",
        "        raise RuntimeError(f\"Error generating summary: {e}\")\n",
        "\n",
        "\n",
        "def create_summary_document(summary, output_file=\"RPG_Summary.docx\"):\n",
        "    \"\"\"Creates a formatted Word document with the summary.\"\"\"\n",
        "    try:\n",
        "        logging.info(f\"Creating Word document: {output_file}\")\n",
        "        doc = Document()\n",
        "        doc.add_heading(\"IBM RPG Code Summary\", level=1)\n",
        "\n",
        "        doc.add_paragraph(\n",
        "            \"This document provides a high-level summary of the provided IBM RPG code, \"\n",
        "            \"suitable for both technical and non-technical audiences.\"\n",
        "        )\n",
        "\n",
        "        doc.add_heading(\"Summary\", level=2)\n",
        "        doc.add_paragraph(summary)\n",
        "\n",
        "        doc.save(output_file)\n",
        "        logging.info(f\"Word document created successfully: {output_file}\")\n",
        "    except Exception as e:\n",
        "        logging.error(f\"Error creating Word document: {e}\")\n",
        "        raise RuntimeError(f\"Error creating Word document: {e}\")\n",
        "\n",
        "\n",
        "def main():\n",
        "    log_file = setup_logging()\n",
        "    logging.info(\"Starting RPG code summary generation process.\")\n",
        "\n",
        "    try:\n",
        "        # Read OpenAI API Key\n",
        "        openai.api_key = read_openai_key()\n",
        "\n",
        "        # Fetch RPG code from GitHub\n",
        "        # github_url = input(\"Enter the GitHub URL of the RPG file: \").strip()\n",
        "        # rpg_code = fetch_rpg_code_from_github(github_url)\n",
        "\n",
        "        # Read RPG file from local folder\n",
        "        rpg_file_path = \"/content/sample_rpg_code.rpg\"\n",
        "        rpg_code = read_rpg_file(rpg_file_path)\n",
        "\n",
        "        # Generate summary\n",
        "        summary = generate_summary(rpg_code)\n",
        "\n",
        "        # Create Word document\n",
        "        create_summary_document(summary)\n",
        "\n",
        "        logging.info(\"Process completed successfully.\")\n",
        "        print(f\"Summary document has been created successfully. Check the output file.\")\n",
        "    except Exception as e:\n",
        "        logging.error(f\"Process failed: {e}\")\n",
        "        print(f\"An error occurred: {e}\")\n",
        "    finally:\n",
        "        print(f\"Log file saved at: {log_file}\")\n",
        "\n",
        "\n",
        "if __name__ == \"__main__\":\n",
        "    main()"
      ]
    },
    {
      "cell_type": "markdown",
      "source": [
        "# Create a RAG system for the created document."
      ],
      "metadata": {
        "id": "9sMzCsD7KRsn"
      }
    },
    {
      "cell_type": "code",
      "source": [],
      "metadata": {
        "id": "NGPe8jEHkfL-"
      },
      "execution_count": null,
      "outputs": []
    }
  ]
}