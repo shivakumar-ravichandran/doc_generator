{
  "nbformat": 4,
  "nbformat_minor": 0,
  "metadata": {
    "colab": {
      "provenance": [],
      "authorship_tag": "ABX9TyMGyVW4l8nSm9YSrT8VpFPu",
      "include_colab_link": true
    },
    "kernelspec": {
      "name": "python3",
      "display_name": "Python 3"
    },
    "language_info": {
      "name": "python"
    }
  },
  "cells": [
    {
      "cell_type": "markdown",
      "metadata": {
        "id": "view-in-github",
        "colab_type": "text"
      },
      "source": [
        "<a href=\"https://colab.research.google.com/github/shivakumar-ravichandran/doc_generator/blob/main/doc_generator.ipynb\" target=\"_parent\"><img src=\"https://colab.research.google.com/assets/colab-badge.svg\" alt=\"Open In Colab\"/></a>"
      ]
    },
    {
      "cell_type": "code",
      "source": [
        "!pip uninstall openai\n",
        "!pip install openai==0.28"
      ],
      "metadata": {
        "colab": {
          "base_uri": "https://localhost:8080/",
          "height": 678
        },
        "id": "OHCSHwy2ksfF",
        "outputId": "ea4bbd1f-37b6-467a-b55d-9df8b47997ac"
      },
      "execution_count": 4,
      "outputs": [
        {
          "output_type": "stream",
          "name": "stdout",
          "text": [
            "Found existing installation: openai 1.54.4\n",
            "Uninstalling openai-1.54.4:\n",
            "  Would remove:\n",
            "    /usr/local/bin/openai\n",
            "    /usr/local/lib/python3.10/dist-packages/openai-1.54.4.dist-info/*\n",
            "    /usr/local/lib/python3.10/dist-packages/openai/*\n",
            "Proceed (Y/n)? Y\n",
            "  Successfully uninstalled openai-1.54.4\n",
            "Collecting openai==0.28\n",
            "  Downloading openai-0.28.0-py3-none-any.whl.metadata (13 kB)\n",
            "Requirement already satisfied: requests>=2.20 in /usr/local/lib/python3.10/dist-packages (from openai==0.28) (2.32.3)\n",
            "Requirement already satisfied: tqdm in /usr/local/lib/python3.10/dist-packages (from openai==0.28) (4.66.6)\n",
            "Requirement already satisfied: aiohttp in /usr/local/lib/python3.10/dist-packages (from openai==0.28) (3.11.2)\n",
            "Requirement already satisfied: charset-normalizer<4,>=2 in /usr/local/lib/python3.10/dist-packages (from requests>=2.20->openai==0.28) (3.4.0)\n",
            "Requirement already satisfied: idna<4,>=2.5 in /usr/local/lib/python3.10/dist-packages (from requests>=2.20->openai==0.28) (3.10)\n",
            "Requirement already satisfied: urllib3<3,>=1.21.1 in /usr/local/lib/python3.10/dist-packages (from requests>=2.20->openai==0.28) (2.2.3)\n",
            "Requirement already satisfied: certifi>=2017.4.17 in /usr/local/lib/python3.10/dist-packages (from requests>=2.20->openai==0.28) (2024.8.30)\n",
            "Requirement already satisfied: aiohappyeyeballs>=2.3.0 in /usr/local/lib/python3.10/dist-packages (from aiohttp->openai==0.28) (2.4.3)\n",
            "Requirement already satisfied: aiosignal>=1.1.2 in /usr/local/lib/python3.10/dist-packages (from aiohttp->openai==0.28) (1.3.1)\n",
            "Requirement already satisfied: attrs>=17.3.0 in /usr/local/lib/python3.10/dist-packages (from aiohttp->openai==0.28) (24.2.0)\n",
            "Requirement already satisfied: frozenlist>=1.1.1 in /usr/local/lib/python3.10/dist-packages (from aiohttp->openai==0.28) (1.5.0)\n",
            "Requirement already satisfied: multidict<7.0,>=4.5 in /usr/local/lib/python3.10/dist-packages (from aiohttp->openai==0.28) (6.1.0)\n",
            "Requirement already satisfied: propcache>=0.2.0 in /usr/local/lib/python3.10/dist-packages (from aiohttp->openai==0.28) (0.2.0)\n",
            "Requirement already satisfied: yarl<2.0,>=1.17.0 in /usr/local/lib/python3.10/dist-packages (from aiohttp->openai==0.28) (1.17.2)\n",
            "Requirement already satisfied: async-timeout<6.0,>=4.0 in /usr/local/lib/python3.10/dist-packages (from aiohttp->openai==0.28) (4.0.3)\n",
            "Requirement already satisfied: typing-extensions>=4.1.0 in /usr/local/lib/python3.10/dist-packages (from multidict<7.0,>=4.5->aiohttp->openai==0.28) (4.12.2)\n",
            "Downloading openai-0.28.0-py3-none-any.whl (76 kB)\n",
            "\u001b[2K   \u001b[90m━━━━━━━━━━━━━━━━━━━━━━━━━━━━━━━━━━━━━━━━\u001b[0m \u001b[32m76.5/76.5 kB\u001b[0m \u001b[31m3.5 MB/s\u001b[0m eta \u001b[36m0:00:00\u001b[0m\n",
            "\u001b[?25hInstalling collected packages: openai\n",
            "Successfully installed openai-0.28.0\n"
          ]
        },
        {
          "output_type": "display_data",
          "data": {
            "application/vnd.colab-display-data+json": {
              "pip_warning": {
                "packages": [
                  "openai"
                ]
              },
              "id": "86aaff0db2bb4feeb8507e03e84288e4"
            }
          },
          "metadata": {}
        }
      ]
    },
    {
      "cell_type": "code",
      "execution_count": 7,
      "metadata": {
        "colab": {
          "base_uri": "https://localhost:8080/"
        },
        "id": "rznQTCv8j8Sg",
        "outputId": "2a411d34-a2f3-4396-a834-79510762dadf"
      },
      "outputs": [
        {
          "output_type": "stream",
          "name": "stdout",
          "text": [
            "This code is an example of how to use RPG to run a curl command and process the results as JSON. It uses a library called YAJL and a program called QSHONI to help with this process. The code first sets up a data structure to hold the results, then executes the curl command and stores the results in a temporary file. Next, it reads the JSON results using the YAJL parser and displays the parsed results. The program will exit if there are any errors\n"
          ]
        }
      ],
      "source": [
        "# Import necessary libraries\n",
        "import openai\n",
        "import os\n",
        "\n",
        "\n",
        "# Function to read and parse the RPG file\n",
        "def read_file(file_path):\n",
        "    \"\"\"Reads the IBM RPG code file and returns its content line by line.\"\"\"\n",
        "    with open(file_path, \"r\") as file:\n",
        "        lines = file.readlines()\n",
        "    return lines\n",
        "\n",
        "def red_key(file_path):\n",
        "  with open(file_path, \"r\") as file:\n",
        "    lines = file.readline()\n",
        "  return lines\n",
        "\n",
        "\n",
        "# Function to generate summaries using a Generative AI model\n",
        "def generate_summary(code_lines):\n",
        "    \"\"\"Generates a high-level summary for the provided code lines.\"\"\"\n",
        "    summaries = []\n",
        "    prompt = f\"Explain the following IBM RPG code in simple terms:\\n\\n{code_lines}\"\n",
        "    try:\n",
        "        response = openai.Completion.create(\n",
        "            engine=\"gpt-3.5-turbo-instruct\",\n",
        "            prompt=prompt,\n",
        "            max_tokens=100,\n",
        "            temperature=0.5,\n",
        "        )\n",
        "        summary = response.choices[0].text.strip()\n",
        "        summaries.append(f\"{summary}\")\n",
        "    except Exception as e:\n",
        "        raise Exception(e)\n",
        "    return summaries\n",
        "\n",
        "\n",
        "# Function to create a high-level document\n",
        "def create_high_level_doc(summaries):\n",
        "    \"\"\"Aggregates line-by-line summaries into a high-level document.\"\"\"\n",
        "    document = \"\\n\".join(summaries)\n",
        "    return document\n",
        "\n",
        "\n",
        "# Main workflow\n",
        "def main():\n",
        "    # Ensure OpenAI API key is set\n",
        "    openai.api_key = red_key(\"openapi_key.txt\")\n",
        "\n",
        "    # Sample RPG file path\n",
        "    rpg_file_path = \"/content/sample_rpg_code.rpg\"\n",
        "\n",
        "    # Read the RPG file\n",
        "    code_lines = read_file(rpg_file_path)\n",
        "\n",
        "    # Generate summaries for the code\n",
        "    summaries = generate_summary(code_lines)\n",
        "\n",
        "    # Create a high-level document\n",
        "    high_level_doc = create_high_level_doc(summaries)\n",
        "\n",
        "    print(high_level_doc)\n",
        "\n",
        "\n",
        "# Run the main workflow\n",
        "if __name__ == \"__main__\":\n",
        "    main()\n"
      ]
    },
    {
      "cell_type": "code",
      "source": [],
      "metadata": {
        "id": "NGPe8jEHkfL-"
      },
      "execution_count": null,
      "outputs": []
    }
  ]
}